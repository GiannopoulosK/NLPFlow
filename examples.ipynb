{
 "cells": [
  {
   "cell_type": "code",
   "execution_count": null,
   "metadata": {},
   "outputs": [],
   "source": [
    "# Library classes\n",
    "from NLPFlow.preprocessing import Preprocessor, Vectorizer\n",
    "from NLPFlow.model import ModelTrainer\n",
    "\n",
    "# Important tools\n",
    "import pandas as pd\n",
    "from sklearn.preprocessing import LabelEncoder\n",
    "from sklearn.model_selection import train_test_split\n",
    "\n",
    "# Initializations\n",
    "preprocessor = Preprocessor(model=\"large\") # specify spacy model used ['large','medium','small']\n",
    "v = Vectorizer(method='tfidf', ngram_range=(1,2), max_features=None) # you can use method = 'count' for n-grams\n",
    "le = LabelEncoder()\n",
    "\n",
    "# Read the data\n",
    "df = pd.read_csv(\"data\\\\TestData.csv\")\n",
    "df = df.sample(100)\n",
    "# Apply the 'preprocess' function that applies all preprocessing steps.\n",
    "# Alternatively, you can use preprocessor.function(ex: preprocessor.remove_emails, preprocessor.remove_abbreviations, preprocessor.lemmatize)\n",
    "df['Text'] = df['statement'].apply(preprocessor.preprocess)\n",
    "\n",
    "# Fit the initialized vectorizer(Here: TFIDF)\n",
    "X = v.fit_transform(df['Text'])\n",
    "\n",
    "# Label Encode the y values(Optional for some ML models)\n",
    "y = df['status']\n",
    "y = le.fit_transform(y)\n",
    "\n",
    "# Get train and test datasets\n",
    "X_train, X_test, y_train, y_test = train_test_split(X, y, test_size=0.2, random_state=42)\n",
    "\n",
    "# Let NLPFlow choose the best model for you!\n",
    "trainer = ModelTrainer(X_train, y_train, X_test, y_test)\n",
    "best_model = trainer.tune_models()\n",
    "print(\"\\nBest Model is:\\n\")\n",
    "print(best_model)\n",
    "\n",
    "# Now you have the best model tuned and ready for use!"
   ]
  }
 ],
 "metadata": {
  "kernelspec": {
   "display_name": "NLPFlow-venv",
   "language": "python",
   "name": "python3"
  },
  "language_info": {
   "codemirror_mode": {
    "name": "ipython",
    "version": 3
   },
   "file_extension": ".py",
   "mimetype": "text/x-python",
   "name": "python",
   "nbconvert_exporter": "python",
   "pygments_lexer": "ipython3",
   "version": "3.11.5"
  }
 },
 "nbformat": 4,
 "nbformat_minor": 2
}
